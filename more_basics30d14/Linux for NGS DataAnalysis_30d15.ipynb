{
 "metadata": {
  "name": ""
 },
 "nbformat": 3,
 "nbformat_minor": 0,
 "worksheets": [
  {
   "cells": [
    {
     "cell_type": "markdown",
     "metadata": {},
     "source": [
      "### Linux Commands for NGS Data Analysis\n",
      "~ From Wishvesh-GLS"
     ]
    },
    {
     "cell_type": "markdown",
     "metadata": {},
     "source": [
      "| Commands                                                     |      Catagory                 |   What I don't know\n",
      "|--------------------------------------------------------------|:------------------------------|---------------------\n",
      "| tar, gunzip, unzip, gzip                                     | compression                   | gunzip\n",
      "| mkdir, ls, cp, mv, rm, rmdir, cd                             | file operation                | none\n",
      "| cat, less, more, vi, gedit, pg, pr                           | file viewer                   | none but nano for vi\n",
      "| grep, sed, awk                                               | filters                       | sed and awk\n",
      "| com, diff, sdiff                                             | compare files                 | sdiff\n",
      "| cut, paste, sort, uniq, head, tail                           | text process                  | cut, paste, uniq\n",
      "| top, PS, htop                                                | process control               | all\n",
      "| finger, last, who, who am i                                  | login check                   | finger, last\n",
      "| free-mh                                                      | memory                        | all\n",
      "| df-h, du-s                                                   | disk usage                    | du\n",
      "| mount -o loop                                                | mount disk                    | none\n",
      "| ifconfig, ping, ipstat                                       | network                       | ipstat\n",
      "| ...., at                                                     | control the scripts (to run)  |\n",
      "| uname                                                        | name and the machine          | none\n",
      "| chmod, chown, chgrp                                          | mode control                  | chown, chgrp\n",
      "| adduser                                                      | mode control                  | adduser\n",
      "| man<>                                                        | manual                        | none\n",
      "| wc                                                           | word count                    | none\n",
      "| clear, aliases, tput, ctrl+D, ctrl+C, ctrl+l, ctrl+q, ctrl+s | screen control                | tput, ctrl+l,s\n",
      "| if, while, for, do, do while                                 | basic shell script            | all"
     ]
    },
    {
     "cell_type": "code",
     "collapsed": false,
     "input": [],
     "language": "python",
     "metadata": {},
     "outputs": []
    }
   ],
   "metadata": {}
  }
 ]
}